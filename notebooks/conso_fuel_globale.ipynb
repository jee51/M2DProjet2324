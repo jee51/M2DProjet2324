{
 "cells": [
  {
   "cell_type": "markdown",
   "metadata": {},
   "source": [
    "# Calcul de la consommation globale\n",
    "\n",
    "On commence par charger les données, on les affiche, on les trie et on fait une première synthèse des consommation par moteur et par vol.\n",
    "\n",
    "L'idées est de construire une table résumant les données de chaque vol et la consommation correspondate de cahque moteur."
   ]
  },
  {
   "cell_type": "code",
   "execution_count": 1,
   "metadata": {},
   "outputs": [],
   "source": [
    "from glob import glob\n",
    "import pandas as pd\n",
    "import statsmodels.formula.api as smf\n",
    "import tabata as tbt\n",
    "from tabata import Opset\n",
    "import matplotlib.pyplot as plt\n",
    "%matplotlib inline"
   ]
  },
  {
   "cell_type": "markdown",
   "metadata": {},
   "source": [
    "## Récupération et affichage des données.\n",
    "\n",
    "On affiche les données de manière à mieux comprendre comment définir les phases de vol.\n",
    "Pour simplifier les accès j'utilise l'Opset de tabata."
   ]
  },
  {
   "cell_type": "code",
   "execution_count": 2,
   "metadata": {},
   "outputs": [],
   "source": [
    "datafiles = glob('../data/*.h5')"
   ]
  },
  {
   "cell_type": "code",
   "execution_count": 3,
   "metadata": {},
   "outputs": [
    {
     "data": {
      "application/vnd.jupyter.widget-view+json": {
       "model_id": "59cd4eed79c542c08a178198c9bef502",
       "version_major": 2,
       "version_minor": 0
      },
      "text/plain": [
       "VBox(children=(HBox(children=(Dropdown(description='Variable :', options=('ALT [ft]', 'EGT_1 [deg C]', 'EGT_2 …"
      ]
     },
     "execution_count": 3,
     "metadata": {},
     "output_type": "execute_result"
    }
   ],
   "source": [
    "sorting = lambda name: int(name[8:])\n",
    "ds = Opset(datafiles[0], sortkey=sorting)\n",
    "ds.plotc()"
   ]
  },
  {
   "cell_type": "code",
   "execution_count": 7,
   "metadata": {},
   "outputs": [
    {
     "data": {
      "application/vnd.jupyter.widget-view+json": {
       "model_id": "2ef657e4dd324ee08f7dd5739de57143",
       "version_major": 2,
       "version_minor": 0
      },
      "text/plain": [
       "interactive(children=(Dropdown(description='varname', options=('ALT [ft]', 'EGT_1 [deg C]', 'EGT_2 [deg C]', '…"
      ]
     },
     "metadata": {},
     "output_type": "display_data"
    }
   ],
   "source": [
    "from ipywidgets import interact, widgets\n",
    "\n",
    "def mydoubleplot(varname, record):\n",
    "    df = ds[record]\n",
    "    tbt.doubleplot(df[varname], df[\"ALT [ft]\"], title=\"Vol {}\".format(record))\n",
    "\n",
    "interact(mydoubleplot, varname=ds.df.columns, record=widgets.IntSlider(0,0,len(ds)-1,1)) ; #range(len(ds))) ;"
   ]
  },
  {
   "cell_type": "code",
   "execution_count": 8,
   "metadata": {},
   "outputs": [],
   "source": [
    "LB2KG = 0.453592  # kg/lb \n",
    "KDENS = 0.73      # kg/l\n",
    "L = []\n",
    "for file in datafiles:\n",
    "    ac = int(file[-5:-3])\n",
    "    ds = Opset(file,sortkey=sorting) # Ne pas oublier de trier les enregistrements.\n",
    "    for df in ds:\n",
    "        if len(df.columns)>0 and \"ALT [ft]\" in df.columns:\n",
    "            alt = df[\"ALT [ft]\"]\n",
    "            Alt_max = max(alt)\n",
    "            if Alt_max > 20000:\n",
    "                mc = df[\"M [Mach]\"]\n",
    "                # Il faudra peut-être séparer la montée et la descente de la croisière.\n",
    "                df1 = df[mc>0.1]\n",
    "                # Quand il faudra rajouter les phases au sol.\n",
    "                #i0 = df1.index[0]\n",
    "                #i1 = df1.index[-1]\n",
    "                #taxi_o = df[:i0-1]\n",
    "                #taxi_i = df[i1+1:]\n",
    "                Leg = len(df1)/3600.0 # En h\n",
    "                Q1 = df1[\"Q_1 [lb/h]\"].sum()/3600.0 # en lb\n",
    "                Q2 = df1[\"Q_2 [lb/h]\"].sum()/3600.0\n",
    "                M1 = Q1*LB2KG # En kg\n",
    "                M2 = Q2*LB2KG\n",
    "                Masse = M1+M2\n",
    "                C1 = M1/KDENS # En l\n",
    "                C2 = M2/KDENS\n",
    "                Mach_max = df1[\"M [Mach]\"].max()\n",
    "                L += [[ac, 1, Leg, Alt_max, Mach_max, Masse, C1]]\n",
    "                L += [[ac, 2, Leg, Alt_max, Mach_max, Masse, C2]]\n",
    "dft = pd.DataFrame(L,columns = ['AC', 'ENG', 'Leg', 'Alt_max', 'Mach_max', 'Masse', 'Conso'])"
   ]
  },
  {
   "cell_type": "code",
   "execution_count": 9,
   "metadata": {},
   "outputs": [
    {
     "data": {
      "text/html": [
       "<div>\n",
       "<style scoped>\n",
       "    .dataframe tbody tr th:only-of-type {\n",
       "        vertical-align: middle;\n",
       "    }\n",
       "\n",
       "    .dataframe tbody tr th {\n",
       "        vertical-align: top;\n",
       "    }\n",
       "\n",
       "    .dataframe thead th {\n",
       "        text-align: right;\n",
       "    }\n",
       "</style>\n",
       "<table border=\"1\" class=\"dataframe\">\n",
       "  <thead>\n",
       "    <tr style=\"text-align: right;\">\n",
       "      <th></th>\n",
       "      <th>AC</th>\n",
       "      <th>ENG</th>\n",
       "      <th>Leg</th>\n",
       "      <th>Alt_max</th>\n",
       "      <th>Mach_max</th>\n",
       "      <th>Masse</th>\n",
       "      <th>Conso</th>\n",
       "    </tr>\n",
       "  </thead>\n",
       "  <tbody>\n",
       "    <tr>\n",
       "      <th>0</th>\n",
       "      <td>1</td>\n",
       "      <td>1</td>\n",
       "      <td>1.619722</td>\n",
       "      <td>39439.264501</td>\n",
       "      <td>0.640898</td>\n",
       "      <td>3725.812542</td>\n",
       "      <td>2547.848842</td>\n",
       "    </tr>\n",
       "    <tr>\n",
       "      <th>1</th>\n",
       "      <td>1</td>\n",
       "      <td>2</td>\n",
       "      <td>1.619722</td>\n",
       "      <td>39439.264501</td>\n",
       "      <td>0.640898</td>\n",
       "      <td>3725.812542</td>\n",
       "      <td>2556.003956</td>\n",
       "    </tr>\n",
       "    <tr>\n",
       "      <th>2</th>\n",
       "      <td>1</td>\n",
       "      <td>1</td>\n",
       "      <td>1.698056</td>\n",
       "      <td>39457.811063</td>\n",
       "      <td>0.649114</td>\n",
       "      <td>3873.297269</td>\n",
       "      <td>2652.136497</td>\n",
       "    </tr>\n",
       "    <tr>\n",
       "      <th>3</th>\n",
       "      <td>1</td>\n",
       "      <td>2</td>\n",
       "      <td>1.698056</td>\n",
       "      <td>39457.811063</td>\n",
       "      <td>0.649114</td>\n",
       "      <td>3873.297269</td>\n",
       "      <td>2653.750172</td>\n",
       "    </tr>\n",
       "    <tr>\n",
       "      <th>4</th>\n",
       "      <td>1</td>\n",
       "      <td>1</td>\n",
       "      <td>1.548889</td>\n",
       "      <td>40825.620025</td>\n",
       "      <td>0.624464</td>\n",
       "      <td>3395.975242</td>\n",
       "      <td>2326.615381</td>\n",
       "    </tr>\n",
       "    <tr>\n",
       "      <th>...</th>\n",
       "      <td>...</td>\n",
       "      <td>...</td>\n",
       "      <td>...</td>\n",
       "      <td>...</td>\n",
       "      <td>...</td>\n",
       "      <td>...</td>\n",
       "      <td>...</td>\n",
       "    </tr>\n",
       "    <tr>\n",
       "      <th>5989</th>\n",
       "      <td>3</td>\n",
       "      <td>2</td>\n",
       "      <td>1.132222</td>\n",
       "      <td>37621.701406</td>\n",
       "      <td>0.591598</td>\n",
       "      <td>2481.130405</td>\n",
       "      <td>1724.592070</td>\n",
       "    </tr>\n",
       "    <tr>\n",
       "      <th>5990</th>\n",
       "      <td>3</td>\n",
       "      <td>1</td>\n",
       "      <td>1.423889</td>\n",
       "      <td>36471.814551</td>\n",
       "      <td>0.632681</td>\n",
       "      <td>2990.838764</td>\n",
       "      <td>2019.218569</td>\n",
       "    </tr>\n",
       "    <tr>\n",
       "      <th>5991</th>\n",
       "      <td>3</td>\n",
       "      <td>2</td>\n",
       "      <td>1.423889</td>\n",
       "      <td>36471.814551</td>\n",
       "      <td>0.632681</td>\n",
       "      <td>2990.838764</td>\n",
       "      <td>2077.820834</td>\n",
       "    </tr>\n",
       "    <tr>\n",
       "      <th>5992</th>\n",
       "      <td>3</td>\n",
       "      <td>1</td>\n",
       "      <td>1.110278</td>\n",
       "      <td>37134.854149</td>\n",
       "      <td>0.599814</td>\n",
       "      <td>2425.202981</td>\n",
       "      <td>1639.174987</td>\n",
       "    </tr>\n",
       "    <tr>\n",
       "      <th>5993</th>\n",
       "      <td>3</td>\n",
       "      <td>2</td>\n",
       "      <td>1.110278</td>\n",
       "      <td>37134.854149</td>\n",
       "      <td>0.599814</td>\n",
       "      <td>2425.202981</td>\n",
       "      <td>1683.020878</td>\n",
       "    </tr>\n",
       "  </tbody>\n",
       "</table>\n",
       "<p>5994 rows × 7 columns</p>\n",
       "</div>"
      ],
      "text/plain": [
       "      AC  ENG       Leg       Alt_max  Mach_max        Masse        Conso\n",
       "0      1    1  1.619722  39439.264501  0.640898  3725.812542  2547.848842\n",
       "1      1    2  1.619722  39439.264501  0.640898  3725.812542  2556.003956\n",
       "2      1    1  1.698056  39457.811063  0.649114  3873.297269  2652.136497\n",
       "3      1    2  1.698056  39457.811063  0.649114  3873.297269  2653.750172\n",
       "4      1    1  1.548889  40825.620025  0.624464  3395.975242  2326.615381\n",
       "...   ..  ...       ...           ...       ...          ...          ...\n",
       "5989   3    2  1.132222  37621.701406  0.591598  2481.130405  1724.592070\n",
       "5990   3    1  1.423889  36471.814551  0.632681  2990.838764  2019.218569\n",
       "5991   3    2  1.423889  36471.814551  0.632681  2990.838764  2077.820834\n",
       "5992   3    1  1.110278  37134.854149  0.599814  2425.202981  1639.174987\n",
       "5993   3    2  1.110278  37134.854149  0.599814  2425.202981  1683.020878\n",
       "\n",
       "[5994 rows x 7 columns]"
      ]
     },
     "execution_count": 9,
     "metadata": {},
     "output_type": "execute_result"
    }
   ],
   "source": [
    "dft"
   ]
  },
  {
   "cell_type": "code",
   "execution_count": null,
   "metadata": {},
   "outputs": [],
   "source": []
  }
 ],
 "metadata": {
  "kernelspec": {
   "display_name": "w39",
   "language": "python",
   "name": "python3"
  },
  "language_info": {
   "codemirror_mode": {
    "name": "ipython",
    "version": 3
   },
   "file_extension": ".py",
   "mimetype": "text/x-python",
   "name": "python",
   "nbconvert_exporter": "python",
   "pygments_lexer": "ipython3",
   "version": "3.11.5"
  },
  "orig_nbformat": 4
 },
 "nbformat": 4,
 "nbformat_minor": 2
}
